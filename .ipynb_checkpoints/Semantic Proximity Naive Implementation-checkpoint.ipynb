{
 "metadata": {
  "name": "",
  "signature": "sha256:f1aec6e5a010bf2c69468ac83389861fbe28a6e0c542ecb09155e2460baa5547"
 },
 "nbformat": 3,
 "nbformat_minor": 0,
 "worksheets": [
  {
   "cells": [
    {
     "cell_type": "markdown",
     "metadata": {},
     "source": [
      "##Semantic Proximity Naive Implementation###\n",
      "\n",
      "**Dependencies:**\n",
      "\n",
      "* NLTK\n",
      "* Gensim"
     ]
    },
    {
     "cell_type": "code",
     "collapsed": false,
     "input": [
      "#import\n",
      "from gensim import corpora, models, similarities\n",
      "from nltk.tokenize import TreebankWordTokenizer\n",
      "from nltk.corpus import stopwords"
     ],
     "language": "python",
     "metadata": {},
     "outputs": [],
     "prompt_number": 339
    },
    {
     "cell_type": "code",
     "collapsed": false,
     "input": [
      "#Mock up corpus\n",
      "resolution = [u\"Arr\u00eater de fumer\",\n",
      "u\"Maigrir de plusieurs kilos\",\n",
      "u\"Ne plus grignoter entre les repas\",\n",
      "u\"Faire du sport\",\n",
      "u\"Ne plus me mettre en col\u00e8re pour une broutille\",\n",
      "u\"Ne plus remettre \u00e0 demain ce que je peux faire imm\u00e9diatement\",\n",
      "u\"Appeler mes parents une fois par semaine.\",\n",
      "u\"Appeler mes beaux-parents de temps en temps, mais pas trop souvent \u2026\",\n",
      "u\"Lire au moins un livre par mois\",\n",
      "u\"Ne plus regarder d\u2019\u00e9mission idiote \u00e0 la t\u00e9l\u00e9\",\n",
      "u\"Jouer moins avec la console de jeu vid\u00e9o des enfants\",\n",
      "u\"Ne plus faire d\u2019ordinateur le dimanche\",\n",
      "u\"D\u00e9penser moins en v\u00eatements\",\n",
      "u\"D\u00e9penser moins en chaussures\",\n",
      "u\"\u00c9conomiser pour les vacances\",\n",
      "u\"Boire un peu moins de bi\u00e8re\",\n",
      "u\"\u00c9couter avec attention les histoires de bonne femme de ma femme\",\n",
      "u\"\u00c9couter avec l\u2019air passionn\u00e9 les histoires de mec de mon mari.\",\n",
      "u\"Rire aux blagues de mon mari\",\n",
      "u\"Arr\u00eater de faire des jeux de mot qui ne font rire que moi\",\n",
      "u\"Penser \u00e0 f\u00eater les anniversaires\",\n",
      "u\"Envoyer une carte de voeux pour le nouvel an\",\n",
      "u\"Demander une augmentation \u00e0 mon chef de service\",\n",
      "u\"Refaire mon CV et chercher un meilleur job\",\n",
      "u\"J'arr\u00eate de m'auto-stresser\",\n",
      "u\"Je me couche plus t\u00f4t\",\n",
      "u\"je me l\u00e8ve moins tard\",\n",
      "u\"J'adh\u00e8re \u00e0 une association\",\n",
      "u\"Je donne au t\u00e9l\u00e9thon\",\n",
      "u\"Conduire de fa\u00e7on plus cool\",\n",
      "u\"Essayer de retrouver mes points de permis\",\n",
      "u\"Passer mon permis\",\n",
      "u\"Repeindre les volets\",\n",
      "u\"Ranger le garage\",\n",
      "u\"Entretenir mieux le jardin\",\n",
      "u\"Mettre la musique moins forte\",\n",
      "u\"Me laver les dents deux fois par jour\",\n",
      "u\"Aller chez le dentiste\",\n",
      "u\"Ne plus dire de mal de ce coll\u00e8gue idiot, car c\u2019est pas sa faute.\",\n",
      "u\"Arr\u00eater de faire des r\u00e9solutions en d\u00e9but d\u2019ann\u00e9e que je ne pourrais pas tenir.\",\n",
      "u\"Agir pour diminuer les exc\u00e8s du r\u00e9veillon.\"\n",
      "]\n"
     ],
     "language": "python",
     "metadata": {},
     "outputs": [],
     "prompt_number": 340
    },
    {
     "cell_type": "code",
     "collapsed": false,
     "input": [
      "# Tokenize each item in the corpus\n",
      "tokenizer = TreebankWordTokenizer()\n",
      "tokens=[tokenizer.tokenize(x.lower()) for x in resolution]\n",
      "#We exclude the stop words\n",
      "tokens_without_stopwords=[]\n",
      "for token in tokens:\n",
      "    tokens_without_stopwords.append([x for x in token if x not in stopwords.words(\"french\")])\n",
      "print(tokens_without_stopwords)\n"
     ],
     "language": "python",
     "metadata": {},
     "outputs": [
      {
       "output_type": "stream",
       "stream": "stdout",
       "text": [
        "[[u'arr\\xeater', u'fumer'], [u'maigrir', u'plusieurs', u'kilos'], [u'plus', u'grignoter', u'entre', u'les', u'repas'], [u'faire', u'sport'], [u'plus', u'mettre', u'col\\xe8re', u'broutille'], [u'plus', u'remettre', u'demain', u'peux', u'faire', u'imm\\xe9diatement'], [u'appeler', u'parents', u'fois', u'semaine', u'.'], [u'appeler', u'beaux-parents', u'temps', u'temps', u',', u'trop', u'souvent', u'\\u2026'], [u'lire', u'moins', u'livre', u'mois'], [u'plus', u'regarder', u'd\\u2019\\xe9mission', u'idiote', u't\\xe9l\\xe9'], [u'jouer', u'moins', u'console', u'jeu', u'vid\\xe9o', u'enfants'], [u'plus', u'faire', u'd\\u2019ordinateur', u'dimanche'], [u'd\\xe9penser', u'moins', u'v\\xeatements'], [u'd\\xe9penser', u'moins', u'chaussures'], [u'\\xe9conomiser', u'les', u'vacances'], [u'boire', u'peu', u'moins', u'bi\\xe8re'], [u'\\xe9couter', u'attention', u'les', u'histoires', u'bonne', u'femme', u'femme'], [u'\\xe9couter', u'l\\u2019air', u'passionn\\xe9', u'les', u'histoires', u'mec', u'mari', u'.'], [u'rire', u'blagues', u'mari'], [u'arr\\xeater', u'faire', u'jeux', u'mot', u'font', u'rire'], [u'penser', u'f\\xeater', u'les', u'anniversaires'], [u'envoyer', u'carte', u'voeux', u'nouvel', u'an'], [u'demander', u'augmentation', u'chef', u'service'], [u'refaire', u'cv', u'chercher', u'meilleur', u'job'], [u\"j'arr\\xeate\", u\"m'auto-stresser\"], [u'couche', u'plus', u't\\xf4t'], [u'l\\xe8ve', u'moins', u'tard'], [u\"j'adh\\xe8re\", u'association'], [u'donne', u't\\xe9l\\xe9thon'], [u'conduire', u'fa\\xe7on', u'plus', u'cool'], [u'essayer', u'retrouver', u'points', u'permis'], [u'passer', u'permis'], [u'repeindre', u'les', u'volets'], [u'ranger', u'garage'], [u'entretenir', u'mieux', u'jardin'], [u'mettre', u'musique', u'moins', u'forte'], [u'laver', u'les', u'dents', u'deux', u'fois', u'jour'], [u'aller', u'chez', u'dentiste'], [u'plus', u'dire', u'mal', u'coll\\xe8gue', u'idiot', u',', u'car', u'c\\u2019est', u'faute', u'.'], [u'arr\\xeater', u'faire', u'r\\xe9solutions', u'd\\xe9but', u'd\\u2019ann\\xe9e', u'pourrais', u'tenir', u'.'], [u'agir', u'diminuer', u'les', u'exc\\xe8s', u'r\\xe9veillon', u'.']]\n"
       ]
      }
     ],
     "prompt_number": 342
    },
    {
     "cell_type": "code",
     "collapsed": false,
     "input": [
      "#Create a dictionnary for our corpus\n",
      "dictionary = corpora.Dictionary(tokens_without_stopwords)\n",
      "print(dictionary[5])"
     ],
     "language": "python",
     "metadata": {},
     "outputs": [
      {
       "output_type": "stream",
       "stream": "stdout",
       "text": [
        "repas\n"
       ]
      }
     ],
     "prompt_number": 344
    },
    {
     "cell_type": "code",
     "collapsed": false,
     "input": [
      "#create the corpus\n",
      "corpus=[dictionary.doc2bow(x) for x in tokens_without_stopwords]"
     ],
     "language": "python",
     "metadata": {},
     "outputs": [],
     "prompt_number": 360
    },
    {
     "cell_type": "code",
     "collapsed": false,
     "input": [
      "#Create the model for our corpus\n",
      "lsi=models.LsiModel(corpus,id2word=dictionary)"
     ],
     "language": "python",
     "metadata": {},
     "outputs": [],
     "prompt_number": 361
    },
    {
     "cell_type": "markdown",
     "metadata": {},
     "source": [
      "##The magic happens here##\n",
      "\n",
      "We perform a query against our model to compute the similarity between our query and our corpus."
     ]
    },
    {
     "cell_type": "code",
     "collapsed": false,
     "input": [
      "#Perform the query against our model\n",
      "query = u\"aller voir mes grands parents\"\n",
      "vec_bow = dictionary.doc2bow(tokenizer.tokenize(query.lower()))\n",
      "vec_lsi = lsi[vec_bow] # convert the query to LSI space\n",
      "index = similarities.MatrixSimilarity(lsi[corpus])\n",
      "sims = index[vec_lsi] # perform a similarity query against the corpus"
     ],
     "language": "python",
     "metadata": {},
     "outputs": [
      {
       "output_type": "stream",
       "stream": "stderr",
       "text": [
        "WARNING:gensim.similarities.docsim:scanning corpus to determine the number of features (consider setting `num_features` explicitly)\n"
       ]
      }
     ],
     "prompt_number": 406
    },
    {
     "cell_type": "code",
     "collapsed": false,
     "input": [
      "print(list(enumerate(sims)))"
     ],
     "language": "python",
     "metadata": {},
     "outputs": [
      {
       "output_type": "stream",
       "stream": "stdout",
       "text": [
        "[(0, -4.6566129e-09), (1, 0.0), (2, 7.4505806e-09), (3, -3.7252903e-09), (4, 7.4505806e-09), (5, 7.4505806e-09), (6, 0.59573084), (7, 0.0), (8, 1.4901161e-08), (9, 7.4505806e-09), (10, -2.0954758e-09), (11, -5.5879354e-09), (12, 7.4505806e-09), (13, 7.4505806e-09), (14, -5.5879354e-09), (15, 5.5879354e-09), (16, -6.519258e-09), (17, 0.0), (18, 1.1175871e-08), (19, 1.4901161e-08), (20, -1.4901161e-08), (21, 0.0), (22, 0.0), (23, 0.0), (24, 0.0), (25, -3.7252903e-09), (26, 1.8626451e-09), (27, 0.0), (28, 0.0), (29, 1.4901161e-08), (30, 0.0), (31, 0.0), (32, -5.5879354e-09), (33, 0.0), (34, 4.4703484e-08), (35, 7.4505806e-09), (36, -3.7252903e-09), (37, 0.76908529), (38, 3.7252903e-09), (39, -1.4901161e-08), (40, 2.3719622e-09)]\n"
       ]
      }
     ],
     "prompt_number": 407
    },
    {
     "cell_type": "code",
     "collapsed": false,
     "input": [
      "#sort the result\n",
      "sims_sorted = sorted(enumerate(sims), key=lambda sim: -sim[1])\n",
      "print(sims_sorted)"
     ],
     "language": "python",
     "metadata": {},
     "outputs": [
      {
       "output_type": "stream",
       "stream": "stdout",
       "text": [
        "[(37, 0.76908529), (6, 0.59573084), (34, 4.4703484e-08), (8, 1.4901161e-08), (19, 1.4901161e-08), (29, 1.4901161e-08), (18, 1.1175871e-08), (2, 7.4505806e-09), (4, 7.4505806e-09), (5, 7.4505806e-09), (9, 7.4505806e-09), (12, 7.4505806e-09), (13, 7.4505806e-09), (35, 7.4505806e-09), (15, 5.5879354e-09), (38, 3.7252903e-09), (40, 2.3719622e-09), (26, 1.8626451e-09), (1, 0.0), (7, 0.0), (17, 0.0), (21, 0.0), (22, 0.0), (23, 0.0), (24, 0.0), (27, 0.0), (28, 0.0), (30, 0.0), (31, 0.0), (33, 0.0), (10, -2.0954758e-09), (3, -3.7252903e-09), (25, -3.7252903e-09), (36, -3.7252903e-09), (0, -4.6566129e-09), (11, -5.5879354e-09), (14, -5.5879354e-09), (32, -5.5879354e-09), (16, -6.519258e-09), (20, -1.4901161e-08), (39, -1.4901161e-08)]\n"
       ]
      }
     ],
     "prompt_number": 408
    },
    {
     "cell_type": "code",
     "collapsed": false,
     "input": [
      "#printing the result in a friendly format\n",
      "from IPython.core.display import HTML\n",
      "html_sims_table=u\"<table><caption><b>Sorted list of similarities for </b>: \" + query + u\"</caption><tr><th>Index</th><th>Verbatim</th><th>score</th></tr>\"\n",
      "for x in sims_sorted:\n",
      "    html_sims_table+=u\"<tr><td>\" + str(x[0]) + u\"</td><td>\" + resolution[x[0]] + u\"</td><td>\" + str(x[1]) + u\"</td></tr>\"\n",
      "html_sims_table+=\"</table>\"\n",
      "HTML(html_sims_table)\n"
     ],
     "language": "python",
     "metadata": {},
     "outputs": [
      {
       "html": [
        "<table><caption><b>Sorted list of similarities for </b>: aller voir mes grands parents</caption><tr><th>Index</th><th>Verbatim</th><th>score</th></tr><tr><td>37</td><td>Aller chez le dentiste</td><td>0.769085</td></tr><tr><td>6</td><td>Appeler mes parents une fois par semaine.</td><td>0.595731</td></tr><tr><td>34</td><td>Entretenir mieux le jardin</td><td>4.47035e-08</td></tr><tr><td>8</td><td>Lire au moins un livre par mois</td><td>1.49012e-08</td></tr><tr><td>19</td><td>Arr\u00eater de faire des jeux de mot qui ne font rire que moi</td><td>1.49012e-08</td></tr><tr><td>29</td><td>Conduire de fa\u00e7on plus cool</td><td>1.49012e-08</td></tr><tr><td>18</td><td>Rire aux blagues de mon mari</td><td>1.11759e-08</td></tr><tr><td>2</td><td>Ne plus grignoter entre les repas</td><td>7.45058e-09</td></tr><tr><td>4</td><td>Ne plus me mettre en col\u00e8re pour une broutille</td><td>7.45058e-09</td></tr><tr><td>5</td><td>Ne plus remettre \u00e0 demain ce que je peux faire imm\u00e9diatement</td><td>7.45058e-09</td></tr><tr><td>9</td><td>Ne plus regarder d\u2019\u00e9mission idiote \u00e0 la t\u00e9l\u00e9</td><td>7.45058e-09</td></tr><tr><td>12</td><td>D\u00e9penser moins en v\u00eatements</td><td>7.45058e-09</td></tr><tr><td>13</td><td>D\u00e9penser moins en chaussures</td><td>7.45058e-09</td></tr><tr><td>35</td><td>Mettre la musique moins forte</td><td>7.45058e-09</td></tr><tr><td>15</td><td>Boire un peu moins de bi\u00e8re</td><td>5.58794e-09</td></tr><tr><td>38</td><td>Ne plus dire de mal de ce coll\u00e8gue idiot, car c\u2019est pas sa faute.</td><td>3.72529e-09</td></tr><tr><td>40</td><td>Agir pour diminuer les exc\u00e8s du r\u00e9veillon.</td><td>2.37196e-09</td></tr><tr><td>26</td><td>je me l\u00e8ve moins tard</td><td>1.86265e-09</td></tr><tr><td>1</td><td>Maigrir de plusieurs kilos</td><td>0.0</td></tr><tr><td>7</td><td>Appeler mes beaux-parents de temps en temps, mais pas trop souvent \u2026</td><td>0.0</td></tr><tr><td>17</td><td>\u00c9couter avec l\u2019air passionn\u00e9 les histoires de mec de mon mari.</td><td>0.0</td></tr><tr><td>21</td><td>Envoyer une carte de voeux pour le nouvel an</td><td>0.0</td></tr><tr><td>22</td><td>Demander une augmentation \u00e0 mon chef de service</td><td>0.0</td></tr><tr><td>23</td><td>Refaire mon CV et chercher un meilleur job</td><td>0.0</td></tr><tr><td>24</td><td>J'arr\u00eate de m'auto-stresser</td><td>0.0</td></tr><tr><td>27</td><td>J'adh\u00e8re \u00e0 une association</td><td>0.0</td></tr><tr><td>28</td><td>Je donne au t\u00e9l\u00e9thon</td><td>0.0</td></tr><tr><td>30</td><td>Essayer de retrouver mes points de permis</td><td>0.0</td></tr><tr><td>31</td><td>Passer mon permis</td><td>0.0</td></tr><tr><td>33</td><td>Ranger le garage</td><td>0.0</td></tr><tr><td>10</td><td>Jouer moins avec la console de jeu vid\u00e9o des enfants</td><td>-2.09548e-09</td></tr><tr><td>3</td><td>Faire du sport</td><td>-3.72529e-09</td></tr><tr><td>25</td><td>Je me couche plus t\u00f4t</td><td>-3.72529e-09</td></tr><tr><td>36</td><td>Me laver les dents deux fois par jour</td><td>-3.72529e-09</td></tr><tr><td>0</td><td>Arr\u00eater de fumer</td><td>-4.65661e-09</td></tr><tr><td>11</td><td>Ne plus faire d\u2019ordinateur le dimanche</td><td>-5.58794e-09</td></tr><tr><td>14</td><td>\u00c9conomiser pour les vacances</td><td>-5.58794e-09</td></tr><tr><td>32</td><td>Repeindre les volets</td><td>-5.58794e-09</td></tr><tr><td>16</td><td>\u00c9couter avec attention les histoires de bonne femme de ma femme</td><td>-6.51926e-09</td></tr><tr><td>20</td><td>Penser \u00e0 f\u00eater les anniversaires</td><td>-1.49012e-08</td></tr><tr><td>39</td><td>Arr\u00eater de faire des r\u00e9solutions en d\u00e9but d\u2019ann\u00e9e que je ne pourrais pas tenir.</td><td>-1.49012e-08</td></tr></table>"
       ],
       "metadata": {},
       "output_type": "pyout",
       "prompt_number": 409,
       "text": [
        "<IPython.core.display.HTML at 0xdf80f10>"
       ]
      }
     ],
     "prompt_number": 409
    },
    {
     "cell_type": "code",
     "collapsed": false,
     "input": [],
     "language": "python",
     "metadata": {},
     "outputs": [],
     "prompt_number": 350
    },
    {
     "cell_type": "code",
     "collapsed": false,
     "input": [],
     "language": "python",
     "metadata": {},
     "outputs": []
    }
   ],
   "metadata": {}
  }
 ]
}